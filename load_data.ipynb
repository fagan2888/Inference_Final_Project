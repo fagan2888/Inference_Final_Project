{
 "cells": [
  {
   "cell_type": "code",
   "execution_count": 87,
   "metadata": {
    "collapsed": false
   },
   "outputs": [
    {
     "name": "stdout",
     "output_type": "stream",
     "text": [
      "new_date\n"
     ]
    }
   ],
   "source": [
    "data = \"/Users/RJ/Desktop/Data_Science/Inference and Representation/Final_Project/nyt_corpus/data/2007/06/01/\"\n",
    "import xml.etree.ElementTree as ET\n",
    "import glob\n",
    "news_dict = {}\n",
    "file_list = glob.glob(data + \"*.xml\")\n",
    "for doc in file_list:\n",
    "    new_dict = parse_doc(doc, news_dict)"
   ]
  },
  {
   "cell_type": "code",
   "execution_count": 86,
   "metadata": {
    "collapsed": false
   },
   "outputs": [],
   "source": [
    "#Input:a news article\n",
    "#Output: a dictionary entry with key as date and values as meta data\n",
    "def parse_doc(doc, news_dict):\n",
    "    tree = ET.parse(doc)\n",
    "    root = tree.getroot()\n",
    "    \n",
    "    online_section = \"\"\n",
    "    print_section = \"\"\n",
    "    descriptor = []\n",
    "    general_descriptor = []\n",
    "    for c in root:\n",
    "        # meta data exist in head\n",
    "        if c.tag == \"head\":\n",
    "            for cc in c:\n",
    "                # obtain publication date\n",
    "                if cc.tag == \"pubdata\":\n",
    "                    dt = cc.attrib['date.publication'][0:8]\n",
    "                # obtain publication sections\n",
    "                elif cc.tag == \"meta\":\n",
    "                    if cc.attrib['name'] == \"online_sections\":\n",
    "                        online_section = cc.attrib['content']\n",
    "                    elif cc.attrib['name'] == \"print_section\":\n",
    "                        print_section = cc.attrib['content']\n",
    "                        \n",
    "                # obtain document descriptions\n",
    "                elif cc.tag == \"docdata\":\n",
    "                    for ccc in cc:\n",
    "                        if ccc.tag == \"identified-content\":\n",
    "                            for cccc in ccc:\n",
    "                                if cccc.tag == \"classifier\" and cccc.text != 'NO INDEX TERMS FROM NYTIMES':\n",
    "                                    if cccc.attrib['type'] == \"descriptor\":\n",
    "                                        descriptor.append(cccc.text)\n",
    "                                    elif cccc.attrib['type'] == \"general_descriptor\":\n",
    "                                        general_descriptor.append(cccc.text)\n",
    "    \n",
    "    if not (dt in list(news_dict.keys())):\n",
    "        news_dict[dt] = {'online_section': [],\n",
    "                         'print_section': [],\n",
    "                         'descriptor': [],\n",
    "                         'general_descriptor': []}\n",
    "        \n",
    "    if online_section: news_dict[dt]['online_section'].append(online_section)\n",
    "    if print_section: news_dict[dt]['print_section'].append(print_section)\n",
    "    news_dict[dt]['descriptor'] += descriptor \n",
    "    news_dict[dt]['general_descriptor'] += general_descriptor\n",
    "    return(news_dict)   "
   ]
  },
  {
   "cell_type": "code",
   "execution_count": 90,
   "metadata": {
    "collapsed": false
   },
   "outputs": [
    {
     "data": {
      "text/plain": [
       "471"
      ]
     },
     "execution_count": 90,
     "metadata": {},
     "output_type": "execute_result"
    }
   ],
   "source": [
    "len(news_dict['20070601']['descriptor'])"
   ]
  },
  {
   "cell_type": "code",
   "execution_count": null,
   "metadata": {
    "collapsed": true
   },
   "outputs": [],
   "source": []
  }
 ],
 "metadata": {
  "anaconda-cloud": {},
  "kernelspec": {
   "display_name": "Python [Root]",
   "language": "python",
   "name": "Python [Root]"
  },
  "language_info": {
   "codemirror_mode": {
    "name": "ipython",
    "version": 3
   },
   "file_extension": ".py",
   "mimetype": "text/x-python",
   "name": "python",
   "nbconvert_exporter": "python",
   "pygments_lexer": "ipython3",
   "version": "3.5.2"
  }
 },
 "nbformat": 4,
 "nbformat_minor": 0
}
