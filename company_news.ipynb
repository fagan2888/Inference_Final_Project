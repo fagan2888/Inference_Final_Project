{
 "cells": [
  {
   "cell_type": "code",
   "execution_count": 3,
   "metadata": {
    "collapsed": true
   },
   "outputs": [],
   "source": [
    "import xlrd\n",
    "workbook = xlrd.open_workbook('Harvard_Psychology_Dictionary.xls')\n",
    "xl_sheet = workbook.sheet_by_index(0)\n",
    "negative_list = []\n",
    "positive_list = []\n",
    "for row in range(1, xl_sheet.nrows):\n",
    "    text = xl_sheet.row_values(row)\n",
    "    if text[2] == 'Positiv':\n",
    "        positive_list.append(text[0])\n",
    "    elif text[3] == 'Negativ':\n",
    "        negative_list.append(text[0])\n",
    "negative_list[884] = 'FALSE'"
   ]
  },
  {
   "cell_type": "code",
   "execution_count": 4,
   "metadata": {
    "collapsed": false
   },
   "outputs": [],
   "source": [
    "for n in range(0,len(negative_list)):\n",
    "    idx = negative_list[n].find('#')\n",
    "    if  idx > 0:\n",
    "        negative_list[n] = negative_list[n][:idx]\n",
    "        \n",
    "for p in range(0,len(positive_list)):\n",
    "    idx = positive_list[p].find('#')\n",
    "    if  idx > 0:\n",
    "        positive_list[p] = positive_list[p][:idx]"
   ]
  },
  {
   "cell_type": "code",
   "execution_count": 51,
   "metadata": {
    "collapsed": false
   },
   "outputs": [
    {
     "name": "stdout",
     "output_type": "stream",
     "text": [
      " GOOGLE  In Silicon Valley, the Race Is On to Trump Google\n",
      " GOOGLE  World Business Briefing | Asia: China: Google Invests In Internet Firm\n",
      "2007-01-07 00:00:00 38 80\n",
      "2007-01-14 00:00:00 0 0\n",
      " ORACLE  Could the Contract Be Defeated? The Software Oracle Knows\n",
      " ORACLE  Could the Contract Be Defeated? The Software Oracle Knows\n",
      "2007-01-21 00:00:00 19 20\n",
      " INTEL  Sun Microsystems Will Use Intel Chips\n",
      " INTEL  Sun Microsystems Will Use Intel Chips\n",
      " SUN MICROSYSTEMS  Profit at Sun Microsystems Stirs Hope of Turnaround\n",
      " SUN MICROSYSTEMS  Profit at Sun Microsystems Stirs Hope of Turnaround\n",
      " YAHOO  Profit Down, Outlook Up at Yahoo\n",
      "2007-01-28 00:00:00 58 84\n",
      " MOTOROLA  Icahn Seeks Board Seat At Motorola\n",
      " MOTOROLA  Icahn Seeks Board Seat at Motorola\n",
      " GOOGLE  Driven by Ads, Net Income Nearly Triples At Google\n",
      " DELL  Good News on Economy, Except for a Dell Executive\n",
      " DELL  Good News on Economy, Except for a Dell Executive\n",
      " MOTOROLA  Cellphone Envy Lays Motorola Low\n",
      " MOTOROLA  Cellphone Envy Lays Motorola Low\n",
      "2007-02-04 00:00:00 73 156\n",
      " YAHOO  A Long-Delayed Ad System Has Yahoo Crossing Its Fingers\n",
      " YAHOO  A Long-Delayed Ad System Has Yahoo Crossing Its Fingers\n",
      " KODAK  Shrinking Pains at Kodak\n",
      " GOOGLE  In a Search Refinement, a Chance to Rival Google\n",
      "2007-02-11 00:00:00 67 141\n",
      " KODAK  History Offers Hope and Fear For Kodak\n",
      " KODAK  History Offers Hope and Fear for Kodak\n",
      " DELL  After Its Founder's Return, Many Are Leaving at Dell\n",
      " DELL  After Its Founder’s Return, Many Are Leaving at Dell\n",
      "2007-02-18 00:00:00 38 49\n",
      " EBAY  Stirring Up the Cubicles at eBay\n",
      " GOOGLE  A Google Package Challenges Microsoft\n",
      " GOOGLE  A Google Package Challenges Microsoft\n",
      "2007-02-25 00:00:00 46 94\n",
      " GOOGLE  An Ad Upstart Forces Google to Open Up a Little\n",
      " GOOGLE  An Ad Upstart Challenges Google\n",
      "2007-03-04 00:00:00 43 51\n",
      "2007-03-11 00:00:00 0 0\n",
      " GOOGLE  Viacom Sues Google Over YouTube Video Clips\n",
      " GOOGLE  WhoseTube?; Viacom Sues Google Over Video Clips on Its Sharing Web Site\n",
      " GOOGLE  WhoseTube? Viacom Sues Google Over Video Clips\n",
      " ADOBE  Installing Adobe Reader\n",
      "2007-03-18 00:00:00 46 103\n",
      " MOTOROLA  As Cellphone Industry Shifts, Motorola Needs a Quick Fix and a Long-Term Plan\n",
      " MOTOROLA  As Cellphone Industry Shifts, Motorola Needs a Quick Fix and a Long-Term Plan\n",
      "2007-03-25 00:00:00 19 21\n",
      " INTEL  China Getting Intel Factory To Build Sophisticated Chips\n",
      "2007-04-01 00:00:00 11 29\n",
      " EBAY  For Cable TV, No Interest In Selling Ads The eBay Way\n",
      " EBAY  For Cable TV, No Interest in Selling Ads the eBay Way\n",
      "2007-04-08 00:00:00 5 13\n",
      "2007-04-15 00:00:00 0 0\n",
      " MOTOROLA  Profit Outlook Questioned As Motorola Reports a Loss\n",
      " MOTOROLA  Profit Outlook Questioned as Motorola Reports a Loss\n",
      " YAHOO  Chinese Political Prisoner Sues in U.S. Court, Saying Yahoo Helped Identify Dissidents\n",
      " YAHOO  Chinese Political Prisoner Sues in U.S. Court, Saying Yahoo Helped Identify Dissidents\n",
      " A.M.D.  Price War Takes Toll As A.M.D. Posts Loss\n",
      " A.M.D.  Price War Takes Toll as A.M.D. Posts Loss\n",
      " XEROX  Prices Are Lower, but Profit Is Up at Xerox\n",
      " XEROX  Prices Are Lower, but Profit Is Up at Xerox\n",
      "2007-04-22 00:00:00 68 105\n",
      " I.B.M.  Sun and I.B.M. to Offer New Class of High-End Servers\n",
      " I.B.M.  Sun and I.B.M. to Offer New Class of High-End Servers\n",
      "2007-04-29 00:00:00 9 37\n",
      " GOOGLE  Yahoo to Buy Ad Company in Bid to Compete With Google\n",
      " GOOGLE  Yahoo to Buy Ad Company in Bid to Compete With Google\n",
      " YAHOO  Rumors Fly On Microsoft And Yahoo\n",
      " YAHOO  Rumors Fly on Microsoft and Yahoo\n",
      " ORACLE  BMW Oracle Wins Race and Share of Lead\n",
      " ORACLE  BMW Oracle Wins Tight Boat Race\n",
      "2007-05-06 00:00:00 58 114\n",
      " MOTOROLA  Icahn Appears To Fall Short At Motorola\n",
      " YAHOO  Gates Discusses Software, but Talk of a Yahoo Deal Persists\n",
      " YAHOO  Gates Discusses Software, but Talk of a Yahoo Deal Persists\n",
      " INTEL  From Intel And A.M.D., Rival Boasts Of Technology\n",
      " INTEL  From Intel and A.M.D., Rival Boasts of Technology\n",
      " GOOGLE  Out of Chaos, Order. Or So Google Says.\n",
      " GOOGLE  Out of Chaos, Order. Or So Google Says.\n",
      "2007-05-13 00:00:00 50 61\n",
      " MOTOROLA  New Motorola Phones Aim at High-End Market\n",
      " DELL  Sales Practices At Dell Draw New York Suit\n",
      " DELL  Sales Practices at Dell Draw New York Suit\n",
      "2007-05-20 00:00:00 19 50\n",
      " ORACLE  Replacing Skipper Doesn't Save Oracle From Cup Elimination\n",
      " DELL  Coming Soon to Wal-Mart: 2 Low-End PCs From Dell\n",
      " DELL  Coming Soon to Wal-Mart: 2 Dell PCs\n",
      " GOOGLE  European Union Warns Google on Possible Violations of Privacy Law\n",
      " GOOGLE  E.U. Probes Google Over Data Retention Policy\n",
      "2007-05-27 00:00:00 66 105\n",
      " GOOGLE  In Fierce Competition, Google Finds Novel Ways to Feed Hiring Machine\n",
      " GOOGLE  In Fierce Competition, Google Finds Novel Ways to Feed Hiring Machine\n",
      "2007-06-03 00:00:00 26 68\n",
      " EBAY  Radio Time To Join List Of eBay Items Up for Auction\n",
      " EBAY  Radio Time to Join List of eBay Items Up for Auction\n",
      " I.B.M.  I.R.S. Moves to Close Tax Shelter Shortly After I.B.M. Uses It to Save $1.6 Billion\n",
      " I.B.M.  I.R.S. Moves to Close Tax Shelter Shortly After I.B.M. Uses It to Save $1.6 Billion\n",
      " QUALCOMM  Patent Ruling Strikes a Blow At Qualcomm\n",
      " QUALCOMM  Patent Ruling Strikes a Blow at Qualcomm\n",
      "2007-06-10 00:00:00 49 63\n",
      " YAHOO  Dissident Shareholders Send Message to Yahoo\n",
      "2007-06-17 00:00:00 11 28\n"
     ]
    }
   ],
   "source": [
    "data = \"/Users/RJ/Desktop/Data_Science/Inference/Final_Project/nyt_corpus/data/2007\"\n",
    "import xml.etree.ElementTree as ET\n",
    "import os\n",
    "news_dict = {}\n",
    "\n",
    "dir_list = []\n",
    "for root, dirs, files in os.walk(data):\n",
    "    dir_list.append(root)\n",
    "dir_list.sort()\n",
    "\n",
    "date_list = []\n",
    "for d in dir_list:\n",
    "    if len(d) == 81:\n",
    "        date_list.append(d)\n",
    "\n",
    "        \n",
    "w_idx = 0\n",
    "n_count = 0\n",
    "p_count = 0\n",
    "n_list = []\n",
    "p_list = []\n",
    "for d in date_list:\n",
    "    for root, dirs, files in os.walk(d):\n",
    "        year = int(root[-10:-6])\n",
    "        month = int(root[-5:-3])\n",
    "        day = int(root[-2:])\n",
    "        for doc in files:\n",
    "            n,p = parse_doc(root + '/' + doc, news_dict, c_list, negative_list, positive_list)\n",
    "            n_count = n_count + n\n",
    "            p_count = p_count + p\n",
    "    if datetime.datetime(year, month, day) == week_list[w_idx]:\n",
    "        print(week_list[w_idx], n_count, p_count)\n",
    "        n_list.append(n_count)\n",
    "        p_list.append(p_count)\n",
    "        n_count = 0\n",
    "        p_count = 0\n",
    "        w_idx = w_idx + 1\n",
    "n_list.append(n_count)\n",
    "p_list.append(p_count)"
   ]
  },
  {
   "cell_type": "code",
   "execution_count": 54,
   "metadata": {
    "collapsed": false
   },
   "outputs": [
    {
     "name": "stdout",
     "output_type": "stream",
     "text": [
      "25\n",
      "25\n"
     ]
    }
   ],
   "source": [
    "print(len(n_list))\n",
    "print(len(p_list))"
   ]
  },
  {
   "cell_type": "code",
   "execution_count": 5,
   "metadata": {
    "collapsed": true
   },
   "outputs": [],
   "source": [
    "#Input:a news article\n",
    "#Output: a dictionary entry with key as date and values as meta data\n",
    "def parse_doc(doc, news_dict, com_list, neg_list, pos_list):\n",
    "    tree = ET.parse(doc)\n",
    "    root = tree.getroot()\n",
    "    f = 0\n",
    "    match = 0\n",
    "    p_count = 0\n",
    "    n_count = 0\n",
    "    for l in root.iter('hedline'):\n",
    "        for h in l:\n",
    "            for c in com_list:\n",
    "                text = ' ' + h.text.lower() + ' '\n",
    "                if text.find(c.lower()) > 0:\n",
    "                    print(c, h.text)\n",
    "                    match = 1\n",
    "    \n",
    "    if match:\n",
    "        for l in root.iter('body.content'):\n",
    "            for f in l:\n",
    "                if f.attrib['class'] == 'full_text':\n",
    "                    for p in f:\n",
    "                        list_p = p.text.upper().split()\n",
    "                        for wd in list_p:\n",
    "                            if wd in neg_list:\n",
    "                                n_count += 1\n",
    "                            if wd in pos_list:\n",
    "                                p_count += 1\n",
    "    return n_count, p_count           \n"
   ]
  },
  {
   "cell_type": "code",
   "execution_count": 8,
   "metadata": {
    "collapsed": false
   },
   "outputs": [],
   "source": [
    "import pickle\n",
    "pkl_file = open('info_tech.pkl', 'rb')\n",
    "info_tech = pickle.load(pkl_file)\n",
    "pkl_file.close()\n",
    "\n",
    "company_list = []\n",
    "for f in info_tech:\n",
    "    if f.find(' CO') > 0:\n",
    "        f = f[:f.find(' CO')]\n",
    "    elif f.find(' INC') > 0:\n",
    "        f = f[:f.find(' INC')]\n",
    "    company_list.append(f)\n",
    "\n",
    "company_list[0] = 'KODAK'\n",
    "company_list[1] = 'IAC/INTERACTIVE'\n",
    "company_list[2] = 'A.M.D.'\n",
    "company_list[5] = 'I.B.M.'\n",
    "company_list[10] = 'LEXMARK'\n",
    "company_list[14] = 'B.M.C.'\n",
    "company_list[20] = 'JUNIPER'\n",
    "company_list[25] = 'CISCO'\n",
    "company_list[32] = 'JABIL'\n",
    "company_list[33] = 'ADOBE'\n",
    "company_list[37] = 'MOTOROLA'\n",
    "company_list[39] = 'NOVELLUS'\n",
    "company_list[41] = 'MICRON'\n",
    "company_list[42] = 'VIAVI'\n",
    "company_list[44] = 'DELL'\n",
    "company_list[46] = 'GOOGLE'\n",
    "company_list[53] = 'CITRIX'\n",
    "company_list[62] = 'CA INC'\n",
    "\n",
    "c_list = []\n",
    "for c in company_list:\n",
    "    c_list.append(' ' + c + ' ')"
   ]
  },
  {
   "cell_type": "code",
   "execution_count": 18,
   "metadata": {
    "collapsed": false
   },
   "outputs": [],
   "source": [
    "import datetime\n",
    "week_list = []\n",
    "dt = datetime.datetime(2007, 1, 7)\n",
    "while dt <= datetime.datetime(2007, 6, 24):\n",
    "    week_list.append(dt)\n",
    "    dt = dt + datetime.timedelta(7)"
   ]
  },
  {
   "cell_type": "code",
   "execution_count": 78,
   "metadata": {
    "collapsed": false
   },
   "outputs": [],
   "source": [
    "import xlrd\n",
    "workbook = xlrd.open_workbook('S&P500_Sectors.xlsx')\n",
    "xl_sheet = workbook.sheet_by_index(0)\n",
    "\n",
    "it_idx = 0\n",
    "info_tech = []\n",
    "for row in range(5, xl_sheet.nrows):\n",
    "    dt = datetime.datetime.strptime(xl_sheet.row_values(row)[0], \"%d-%b-%Y\")\n",
    "    if it_idx < len(week_list):\n",
    "        if (dt - week_list[it_idx]) == datetime.timedelta(1):\n",
    "            data = xl_sheet.row_values(row)[8]\n",
    "            temp_row = row\n",
    "            while data == 42:\n",
    "                temp_row = temp_row + 1\n",
    "                data = xl_sheet.row_values(temp_row)[8]\n",
    "            it_idx = it_idx + 1\n",
    "            info_tech.append(data)\n",
    "    #print(xl_sheet.row_values(row))"
   ]
  },
  {
   "cell_type": "code",
   "execution_count": 80,
   "metadata": {
    "collapsed": false
   },
   "outputs": [
    {
     "data": {
      "text/plain": [
       "25"
      ]
     },
     "execution_count": 80,
     "metadata": {},
     "output_type": "execute_result"
    }
   ],
   "source": [
    "len(info_tech)"
   ]
  },
  {
   "cell_type": "code",
   "execution_count": null,
   "metadata": {
    "collapsed": true
   },
   "outputs": [],
   "source": []
  }
 ],
 "metadata": {
  "anaconda-cloud": {},
  "kernelspec": {
   "display_name": "Python [Root]",
   "language": "python",
   "name": "Python [Root]"
  },
  "language_info": {
   "codemirror_mode": {
    "name": "ipython",
    "version": 3
   },
   "file_extension": ".py",
   "mimetype": "text/x-python",
   "name": "python",
   "nbconvert_exporter": "python",
   "pygments_lexer": "ipython3",
   "version": "3.5.2"
  }
 },
 "nbformat": 4,
 "nbformat_minor": 0
}
